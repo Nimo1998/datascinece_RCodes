{
  "nbformat": 4,
  "nbformat_minor": 0,
  "metadata": {
    "colab": {
      "name": "Python Practice.ipynb",
      "provenance": [],
      "authorship_tag": "ABX9TyN55CWHAFlYM73NZlSGibVD",
      "include_colab_link": true
    },
    "kernelspec": {
      "name": "python3",
      "display_name": "Python 3"
    },
    "language_info": {
      "name": "python"
    }
  },
  "cells": [
    {
      "cell_type": "markdown",
      "metadata": {
        "id": "view-in-github",
        "colab_type": "text"
      },
      "source": [
        "<a href=\"https://colab.research.google.com/github/Nimo1998/datascinece_RCodes/blob/main/Python_Practice.ipynb\" target=\"_parent\"><img src=\"https://colab.research.google.com/assets/colab-badge.svg\" alt=\"Open In Colab\"/></a>"
      ]
    },
    {
      "cell_type": "code",
      "metadata": {
        "id": "BYWgRVQkikxB"
      },
      "source": [
        "import pandas as pd"
      ],
      "execution_count": 1,
      "outputs": []
    },
    {
      "cell_type": "code",
      "metadata": {
        "id": "2n6PvFK3m1d1"
      },
      "source": [
        "df=pd.read_csv(\"/content/Salaries cs\")"
      ],
      "execution_count": 2,
      "outputs": []
    },
    {
      "cell_type": "code",
      "metadata": {
        "colab": {
          "base_uri": "https://localhost:8080/",
          "height": 204
        },
        "id": "tbvGE3GQm_Hn",
        "outputId": "4720c2b9-7e0e-4ce8-b647-80b62a16b4ec"
      },
      "source": [
        "df.head()"
      ],
      "execution_count": 4,
      "outputs": [
        {
          "output_type": "execute_result",
          "data": {
            "text/html": [
              "<div>\n",
              "<style scoped>\n",
              "    .dataframe tbody tr th:only-of-type {\n",
              "        vertical-align: middle;\n",
              "    }\n",
              "\n",
              "    .dataframe tbody tr th {\n",
              "        vertical-align: top;\n",
              "    }\n",
              "\n",
              "    .dataframe thead th {\n",
              "        text-align: right;\n",
              "    }\n",
              "</style>\n",
              "<table border=\"1\" class=\"dataframe\">\n",
              "  <thead>\n",
              "    <tr style=\"text-align: right;\">\n",
              "      <th></th>\n",
              "      <th>rank</th>\n",
              "      <th>discipline</th>\n",
              "      <th>phd</th>\n",
              "      <th>service</th>\n",
              "      <th>sex</th>\n",
              "      <th>salary</th>\n",
              "    </tr>\n",
              "  </thead>\n",
              "  <tbody>\n",
              "    <tr>\n",
              "      <th>0</th>\n",
              "      <td>Prof</td>\n",
              "      <td>B</td>\n",
              "      <td>56</td>\n",
              "      <td>49</td>\n",
              "      <td>Male</td>\n",
              "      <td>186960</td>\n",
              "    </tr>\n",
              "    <tr>\n",
              "      <th>1</th>\n",
              "      <td>Prof</td>\n",
              "      <td>A</td>\n",
              "      <td>12</td>\n",
              "      <td>6</td>\n",
              "      <td>Male</td>\n",
              "      <td>93000</td>\n",
              "    </tr>\n",
              "    <tr>\n",
              "      <th>2</th>\n",
              "      <td>Prof</td>\n",
              "      <td>A</td>\n",
              "      <td>23</td>\n",
              "      <td>20</td>\n",
              "      <td>Male</td>\n",
              "      <td>110515</td>\n",
              "    </tr>\n",
              "    <tr>\n",
              "      <th>3</th>\n",
              "      <td>Prof</td>\n",
              "      <td>A</td>\n",
              "      <td>40</td>\n",
              "      <td>31</td>\n",
              "      <td>Male</td>\n",
              "      <td>131205</td>\n",
              "    </tr>\n",
              "    <tr>\n",
              "      <th>4</th>\n",
              "      <td>Prof</td>\n",
              "      <td>B</td>\n",
              "      <td>20</td>\n",
              "      <td>18</td>\n",
              "      <td>Male</td>\n",
              "      <td>104800</td>\n",
              "    </tr>\n",
              "  </tbody>\n",
              "</table>\n",
              "</div>"
            ],
            "text/plain": [
              "   rank discipline  phd  service   sex  salary\n",
              "0  Prof          B   56       49  Male  186960\n",
              "1  Prof          A   12        6  Male   93000\n",
              "2  Prof          A   23       20  Male  110515\n",
              "3  Prof          A   40       31  Male  131205\n",
              "4  Prof          B   20       18  Male  104800"
            ]
          },
          "metadata": {},
          "execution_count": 4
        }
      ]
    },
    {
      "cell_type": "code",
      "metadata": {
        "colab": {
          "base_uri": "https://localhost:8080/",
          "height": 359
        },
        "id": "rU1fVUkbnEIL",
        "outputId": "67001531-679b-4f13-9a86-cdab7e6b3069"
      },
      "source": [
        "df.head(10)"
      ],
      "execution_count": 5,
      "outputs": [
        {
          "output_type": "execute_result",
          "data": {
            "text/html": [
              "<div>\n",
              "<style scoped>\n",
              "    .dataframe tbody tr th:only-of-type {\n",
              "        vertical-align: middle;\n",
              "    }\n",
              "\n",
              "    .dataframe tbody tr th {\n",
              "        vertical-align: top;\n",
              "    }\n",
              "\n",
              "    .dataframe thead th {\n",
              "        text-align: right;\n",
              "    }\n",
              "</style>\n",
              "<table border=\"1\" class=\"dataframe\">\n",
              "  <thead>\n",
              "    <tr style=\"text-align: right;\">\n",
              "      <th></th>\n",
              "      <th>rank</th>\n",
              "      <th>discipline</th>\n",
              "      <th>phd</th>\n",
              "      <th>service</th>\n",
              "      <th>sex</th>\n",
              "      <th>salary</th>\n",
              "    </tr>\n",
              "  </thead>\n",
              "  <tbody>\n",
              "    <tr>\n",
              "      <th>0</th>\n",
              "      <td>Prof</td>\n",
              "      <td>B</td>\n",
              "      <td>56</td>\n",
              "      <td>49</td>\n",
              "      <td>Male</td>\n",
              "      <td>186960</td>\n",
              "    </tr>\n",
              "    <tr>\n",
              "      <th>1</th>\n",
              "      <td>Prof</td>\n",
              "      <td>A</td>\n",
              "      <td>12</td>\n",
              "      <td>6</td>\n",
              "      <td>Male</td>\n",
              "      <td>93000</td>\n",
              "    </tr>\n",
              "    <tr>\n",
              "      <th>2</th>\n",
              "      <td>Prof</td>\n",
              "      <td>A</td>\n",
              "      <td>23</td>\n",
              "      <td>20</td>\n",
              "      <td>Male</td>\n",
              "      <td>110515</td>\n",
              "    </tr>\n",
              "    <tr>\n",
              "      <th>3</th>\n",
              "      <td>Prof</td>\n",
              "      <td>A</td>\n",
              "      <td>40</td>\n",
              "      <td>31</td>\n",
              "      <td>Male</td>\n",
              "      <td>131205</td>\n",
              "    </tr>\n",
              "    <tr>\n",
              "      <th>4</th>\n",
              "      <td>Prof</td>\n",
              "      <td>B</td>\n",
              "      <td>20</td>\n",
              "      <td>18</td>\n",
              "      <td>Male</td>\n",
              "      <td>104800</td>\n",
              "    </tr>\n",
              "    <tr>\n",
              "      <th>5</th>\n",
              "      <td>Prof</td>\n",
              "      <td>A</td>\n",
              "      <td>20</td>\n",
              "      <td>20</td>\n",
              "      <td>Male</td>\n",
              "      <td>122400</td>\n",
              "    </tr>\n",
              "    <tr>\n",
              "      <th>6</th>\n",
              "      <td>AssocProf</td>\n",
              "      <td>A</td>\n",
              "      <td>20</td>\n",
              "      <td>17</td>\n",
              "      <td>Male</td>\n",
              "      <td>81285</td>\n",
              "    </tr>\n",
              "    <tr>\n",
              "      <th>7</th>\n",
              "      <td>Prof</td>\n",
              "      <td>A</td>\n",
              "      <td>18</td>\n",
              "      <td>18</td>\n",
              "      <td>Male</td>\n",
              "      <td>126300</td>\n",
              "    </tr>\n",
              "    <tr>\n",
              "      <th>8</th>\n",
              "      <td>Prof</td>\n",
              "      <td>A</td>\n",
              "      <td>29</td>\n",
              "      <td>19</td>\n",
              "      <td>Male</td>\n",
              "      <td>94350</td>\n",
              "    </tr>\n",
              "    <tr>\n",
              "      <th>9</th>\n",
              "      <td>Prof</td>\n",
              "      <td>A</td>\n",
              "      <td>51</td>\n",
              "      <td>51</td>\n",
              "      <td>Male</td>\n",
              "      <td>57800</td>\n",
              "    </tr>\n",
              "  </tbody>\n",
              "</table>\n",
              "</div>"
            ],
            "text/plain": [
              "        rank discipline  phd  service   sex  salary\n",
              "0       Prof          B   56       49  Male  186960\n",
              "1       Prof          A   12        6  Male   93000\n",
              "2       Prof          A   23       20  Male  110515\n",
              "3       Prof          A   40       31  Male  131205\n",
              "4       Prof          B   20       18  Male  104800\n",
              "5       Prof          A   20       20  Male  122400\n",
              "6  AssocProf          A   20       17  Male   81285\n",
              "7       Prof          A   18       18  Male  126300\n",
              "8       Prof          A   29       19  Male   94350\n",
              "9       Prof          A   51       51  Male   57800"
            ]
          },
          "metadata": {},
          "execution_count": 5
        }
      ]
    },
    {
      "cell_type": "code",
      "metadata": {
        "colab": {
          "base_uri": "https://localhost:8080/"
        },
        "id": "r6E1OndFpSB3",
        "outputId": "ad236b24-7d01-4d5c-947b-43b889a3f237"
      },
      "source": [
        "df.dtypes"
      ],
      "execution_count": 6,
      "outputs": [
        {
          "output_type": "execute_result",
          "data": {
            "text/plain": [
              "rank          object\n",
              "discipline    object\n",
              "phd            int64\n",
              "service        int64\n",
              "sex           object\n",
              "salary         int64\n",
              "dtype: object"
            ]
          },
          "metadata": {},
          "execution_count": 6
        }
      ]
    },
    {
      "cell_type": "code",
      "metadata": {
        "colab": {
          "base_uri": "https://localhost:8080/"
        },
        "id": "hu1sYOHuqAQ_",
        "outputId": "db8a8eac-41c2-4037-aa4d-e6c69d425df6"
      },
      "source": [
        "df.shape"
      ],
      "execution_count": 7,
      "outputs": [
        {
          "output_type": "execute_result",
          "data": {
            "text/plain": [
              "(78, 6)"
            ]
          },
          "metadata": {},
          "execution_count": 7
        }
      ]
    },
    {
      "cell_type": "code",
      "metadata": {
        "colab": {
          "base_uri": "https://localhost:8080/"
        },
        "id": "ETzYn-1grO0t",
        "outputId": "3293d8df-5daa-48e1-a2f8-2cf061d20ce5"
      },
      "source": [
        "df.size"
      ],
      "execution_count": 8,
      "outputs": [
        {
          "output_type": "execute_result",
          "data": {
            "text/plain": [
              "468"
            ]
          },
          "metadata": {},
          "execution_count": 8
        }
      ]
    },
    {
      "cell_type": "code",
      "metadata": {
        "colab": {
          "base_uri": "https://localhost:8080/"
        },
        "id": "WdozJNx2rU0p",
        "outputId": "a59bd09a-2636-49f2-ae1d-cf4cb5a9330e"
      },
      "source": [
        "df.columns"
      ],
      "execution_count": 9,
      "outputs": [
        {
          "output_type": "execute_result",
          "data": {
            "text/plain": [
              "Index(['rank', 'discipline', 'phd', 'service', 'sex', 'salary'], dtype='object')"
            ]
          },
          "metadata": {},
          "execution_count": 9
        }
      ]
    },
    {
      "cell_type": "code",
      "metadata": {
        "colab": {
          "base_uri": "https://localhost:8080/"
        },
        "id": "HghHvzhfrchQ",
        "outputId": "3d8a48a6-46f5-4cbd-ca60-014c1cca2baf"
      },
      "source": [
        "df.axes"
      ],
      "execution_count": 10,
      "outputs": [
        {
          "output_type": "execute_result",
          "data": {
            "text/plain": [
              "[RangeIndex(start=0, stop=78, step=1),\n",
              " Index(['rank', 'discipline', 'phd', 'service', 'sex', 'salary'], dtype='object')]"
            ]
          },
          "metadata": {},
          "execution_count": 10
        }
      ]
    },
    {
      "cell_type": "code",
      "metadata": {
        "colab": {
          "base_uri": "https://localhost:8080/"
        },
        "id": "tJalkK7Crfgt",
        "outputId": "2a3b9ead-42e7-41bc-be9d-8e6d7e153878"
      },
      "source": [
        "df.values"
      ],
      "execution_count": 11,
      "outputs": [
        {
          "output_type": "execute_result",
          "data": {
            "text/plain": [
              "array([['Prof', 'B', 56, 49, 'Male', 186960],\n",
              "       ['Prof', 'A', 12, 6, 'Male', 93000],\n",
              "       ['Prof', 'A', 23, 20, 'Male', 110515],\n",
              "       ['Prof', 'A', 40, 31, 'Male', 131205],\n",
              "       ['Prof', 'B', 20, 18, 'Male', 104800],\n",
              "       ['Prof', 'A', 20, 20, 'Male', 122400],\n",
              "       ['AssocProf', 'A', 20, 17, 'Male', 81285],\n",
              "       ['Prof', 'A', 18, 18, 'Male', 126300],\n",
              "       ['Prof', 'A', 29, 19, 'Male', 94350],\n",
              "       ['Prof', 'A', 51, 51, 'Male', 57800],\n",
              "       ['Prof', 'B', 39, 33, 'Male', 128250],\n",
              "       ['Prof', 'B', 23, 23, 'Male', 134778],\n",
              "       ['AsstProf', 'B', 1, 0, 'Male', 88000],\n",
              "       ['Prof', 'B', 35, 33, 'Male', 162200],\n",
              "       ['Prof', 'B', 25, 19, 'Male', 153750],\n",
              "       ['Prof', 'B', 17, 3, 'Male', 150480],\n",
              "       ['AsstProf', 'B', 8, 3, 'Male', 75044],\n",
              "       ['AsstProf', 'B', 4, 0, 'Male', 92000],\n",
              "       ['Prof', 'A', 19, 7, 'Male', 107300],\n",
              "       ['Prof', 'A', 29, 27, 'Male', 150500],\n",
              "       ['AsstProf', 'B', 4, 4, 'Male', 92000],\n",
              "       ['Prof', 'A', 33, 30, 'Male', 103106],\n",
              "       ['AsstProf', 'A', 4, 2, 'Male', 73000],\n",
              "       ['AsstProf', 'A', 2, 0, 'Male', 85000],\n",
              "       ['Prof', 'A', 30, 23, 'Male', 91100],\n",
              "       ['Prof', 'B', 35, 31, 'Male', 99418],\n",
              "       ['Prof', 'A', 38, 19, 'Male', 148750],\n",
              "       ['Prof', 'A', 45, 43, 'Male', 155865],\n",
              "       ['AsstProf', 'B', 7, 2, 'Male', 91300],\n",
              "       ['Prof', 'B', 21, 20, 'Male', 123683],\n",
              "       ['AssocProf', 'B', 9, 7, 'Male', 107008],\n",
              "       ['Prof', 'B', 22, 21, 'Male', 155750],\n",
              "       ['Prof', 'A', 27, 19, 'Male', 103275],\n",
              "       ['Prof', 'B', 18, 18, 'Male', 120000],\n",
              "       ['AssocProf', 'B', 12, 8, 'Male', 119800],\n",
              "       ['Prof', 'B', 28, 23, 'Male', 126933],\n",
              "       ['Prof', 'B', 45, 45, 'Male', 146856],\n",
              "       ['Prof', 'A', 20, 8, 'Male', 102000],\n",
              "       ['AsstProf', 'B', 4, 3, 'Male', 91000],\n",
              "       ['Prof', 'B', 18, 18, 'Female', 129000],\n",
              "       ['Prof', 'A', 39, 36, 'Female', 137000],\n",
              "       ['AssocProf', 'A', 13, 8, 'Female', 74830],\n",
              "       ['AsstProf', 'B', 4, 2, 'Female', 80225],\n",
              "       ['AsstProf', 'B', 5, 0, 'Female', 77000],\n",
              "       ['Prof', 'B', 23, 19, 'Female', 151768],\n",
              "       ['Prof', 'B', 25, 25, 'Female', 140096],\n",
              "       ['AsstProf', 'B', 11, 3, 'Female', 74692],\n",
              "       ['AssocProf', 'B', 11, 11, 'Female', 103613],\n",
              "       ['Prof', 'B', 17, 17, 'Female', 111512],\n",
              "       ['Prof', 'B', 17, 18, 'Female', 122960],\n",
              "       ['AsstProf', 'B', 10, 5, 'Female', 97032],\n",
              "       ['Prof', 'B', 20, 14, 'Female', 127512],\n",
              "       ['Prof', 'A', 12, 0, 'Female', 105000],\n",
              "       ['AsstProf', 'A', 5, 3, 'Female', 73500],\n",
              "       ['AssocProf', 'A', 25, 22, 'Female', 62884],\n",
              "       ['AsstProf', 'A', 2, 0, 'Female', 72500],\n",
              "       ['AssocProf', 'A', 10, 8, 'Female', 77500],\n",
              "       ['AsstProf', 'A', 3, 1, 'Female', 72500],\n",
              "       ['Prof', 'B', 36, 26, 'Female', 144651],\n",
              "       ['AssocProf', 'B', 12, 10, 'Female', 103994],\n",
              "       ['AsstProf', 'B', 3, 3, 'Female', 92000],\n",
              "       ['AssocProf', 'B', 13, 10, 'Female', 103750],\n",
              "       ['AssocProf', 'B', 14, 7, 'Female', 109650],\n",
              "       ['Prof', 'A', 29, 27, 'Female', 91000],\n",
              "       ['AssocProf', 'A', 26, 24, 'Female', 73300],\n",
              "       ['Prof', 'A', 36, 19, 'Female', 117555],\n",
              "       ['AsstProf', 'A', 7, 6, 'Female', 63100],\n",
              "       ['Prof', 'A', 17, 11, 'Female', 90450],\n",
              "       ['AsstProf', 'A', 4, 2, 'Female', 77500],\n",
              "       ['Prof', 'A', 28, 7, 'Female', 116450],\n",
              "       ['AsstProf', 'A', 8, 3, 'Female', 78500],\n",
              "       ['AssocProf', 'B', 12, 9, 'Female', 71065],\n",
              "       ['Prof', 'B', 24, 15, 'Female', 161101],\n",
              "       ['Prof', 'B', 18, 10, 'Female', 105450],\n",
              "       ['AssocProf', 'B', 19, 6, 'Female', 104542],\n",
              "       ['Prof', 'B', 17, 17, 'Female', 124312],\n",
              "       ['Prof', 'A', 28, 14, 'Female', 109954],\n",
              "       ['Prof', 'A', 23, 15, 'Female', 109646]], dtype=object)"
            ]
          },
          "metadata": {},
          "execution_count": 11
        }
      ]
    },
    {
      "cell_type": "code",
      "metadata": {
        "colab": {
          "base_uri": "https://localhost:8080/"
        },
        "id": "UtW51q17rjJ6",
        "outputId": "6f5d980d-beb8-40fa-916b-f498a6f0d67e"
      },
      "source": [
        "df.ndim"
      ],
      "execution_count": 12,
      "outputs": [
        {
          "output_type": "execute_result",
          "data": {
            "text/plain": [
              "2"
            ]
          },
          "metadata": {},
          "execution_count": 12
        }
      ]
    },
    {
      "cell_type": "code",
      "metadata": {
        "colab": {
          "base_uri": "https://localhost:8080/"
        },
        "id": "8rTvklMFroOp",
        "outputId": "69827ab1-09b1-4c5b-b2d4-77445a163ab7"
      },
      "source": [
        "df.columns"
      ],
      "execution_count": 13,
      "outputs": [
        {
          "output_type": "execute_result",
          "data": {
            "text/plain": [
              "Index(['rank', 'discipline', 'phd', 'service', 'sex', 'salary'], dtype='object')"
            ]
          },
          "metadata": {},
          "execution_count": 13
        }
      ]
    },
    {
      "cell_type": "code",
      "metadata": {
        "colab": {
          "base_uri": "https://localhost:8080/"
        },
        "id": "vWoDJjmdsLop",
        "outputId": "28b04a4e-db42-4c8b-ab3c-444e8295c463"
      },
      "source": [
        "df.columns.size"
      ],
      "execution_count": 15,
      "outputs": [
        {
          "output_type": "execute_result",
          "data": {
            "text/plain": [
              "6"
            ]
          },
          "metadata": {},
          "execution_count": 15
        }
      ]
    },
    {
      "cell_type": "code",
      "metadata": {
        "colab": {
          "base_uri": "https://localhost:8080/"
        },
        "id": "GgVoPbp8sZ1f",
        "outputId": "6f477aec-0ceb-4cad-c8ae-2b72a6bac9ba"
      },
      "source": [
        "df.columns"
      ],
      "execution_count": 24,
      "outputs": [
        {
          "output_type": "execute_result",
          "data": {
            "text/plain": [
              "Index(['rank', 'discipline', 'phd', 'service', 'sex', 'salary'], dtype='object')"
            ]
          },
          "metadata": {},
          "execution_count": 24
        }
      ]
    },
    {
      "cell_type": "code",
      "metadata": {
        "colab": {
          "base_uri": "https://localhost:8080/"
        },
        "id": "EiN2ml3RsmJG",
        "outputId": "b3ae3b1c-f4a0-4d1c-8ed8-2d4f03d0d6cf"
      },
      "source": [
        "df.dtypes"
      ],
      "execution_count": 25,
      "outputs": [
        {
          "output_type": "execute_result",
          "data": {
            "text/plain": [
              "rank          object\n",
              "discipline    object\n",
              "phd            int64\n",
              "service        int64\n",
              "sex           object\n",
              "salary         int64\n",
              "dtype: object"
            ]
          },
          "metadata": {},
          "execution_count": 25
        }
      ]
    },
    {
      "cell_type": "code",
      "metadata": {
        "colab": {
          "base_uri": "https://localhost:8080/"
        },
        "id": "Dfr1Zc45s42u",
        "outputId": "ffdb0c39-819a-440c-e87d-c77cb8cd6b41"
      },
      "source": [
        "df.shape[0]"
      ],
      "execution_count": 27,
      "outputs": [
        {
          "output_type": "execute_result",
          "data": {
            "text/plain": [
              "78"
            ]
          },
          "metadata": {},
          "execution_count": 27
        }
      ]
    },
    {
      "cell_type": "code",
      "metadata": {
        "colab": {
          "base_uri": "https://localhost:8080/"
        },
        "id": "AJU1mIv4tg73",
        "outputId": "25162c3b-bdb6-4f3d-c3b5-21d6dd0451a1"
      },
      "source": [
        "df.shape[1]"
      ],
      "execution_count": 28,
      "outputs": [
        {
          "output_type": "execute_result",
          "data": {
            "text/plain": [
              "6"
            ]
          },
          "metadata": {},
          "execution_count": 28
        }
      ]
    },
    {
      "cell_type": "code",
      "metadata": {
        "id": "ulMWAKp3tu06"
      },
      "source": [
        ""
      ],
      "execution_count": null,
      "outputs": []
    }
  ]
}